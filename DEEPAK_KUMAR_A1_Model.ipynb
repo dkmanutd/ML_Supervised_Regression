{
 "cells": [
  {
   "cell_type": "code",
   "execution_count": null,
   "metadata": {},
   "outputs": [],
   "source": [
    "# timeit\n",
    "# Student Name : \n",
    "# Cohort       :#\n",
    "\n",
    "#############################################################################\n",
    "#### Import Packages\n",
    "#############################################################################\n",
    "\n",
    "#### use this space for all of your package imports\n",
    "\n",
    "\n",
    "#############################################################################\n",
    "#### Load Data\n",
    "#############################################################################\n",
    "\n",
    "#### use this space to load the original dataset# MAKE SURE TO SAVE THE ORIGINAL FILE AS original_df# Example: original_df = pd.read_excel('Apprentice Chef Dataset.xlsx')original_df = ################################################################################# Feature Engineering and (optional) Dataset Standardization################################################################################# use this space for all of the feature engineering that is required for your# final model# if your final model requires dataset standardization, do this here as well################################################################################# Train/Test Split################################################################################# use this space to set up testing and validation sets using train/test split# Note: Be sure to set test_size = 0.25################################################################################# Final Model (instantiate, fit, and predict)################################################################################\n",
    "# use this space to instantiate, fit, and predict on your final model################################################################################# Final Model Score (score)################################################################################# use this space to score your final model on the testing set# MAKE SURE TO SAVE YOUR TEST SCORE AS test_score# Example: test_score = final_model.score(X_test, y_test)test_score = "
   ]
  }
 ],
 "metadata": {
  "kernelspec": {
   "display_name": "Python 3",
   "language": "python",
   "name": "python3"
  },
  "language_info": {
   "codemirror_mode": {
    "name": "ipython",
    "version": 3
   },
   "file_extension": ".py",
   "mimetype": "text/x-python",
   "name": "python",
   "nbconvert_exporter": "python",
   "pygments_lexer": "ipython3",
   "version": "3.7.6"
  },
  "toc": {
   "base_numbering": 1,
   "nav_menu": {},
   "number_sections": true,
   "sideBar": true,
   "skip_h1_title": false,
   "title_cell": "Table of Contents",
   "title_sidebar": "Contents",
   "toc_cell": false,
   "toc_position": {},
   "toc_section_display": true,
   "toc_window_display": false
  },
  "varInspector": {
   "cols": {
    "lenName": 16,
    "lenType": 16,
    "lenVar": 40
   },
   "kernels_config": {
    "python": {
     "delete_cmd_postfix": "",
     "delete_cmd_prefix": "del ",
     "library": "var_list.py",
     "varRefreshCmd": "print(var_dic_list())"
    },
    "r": {
     "delete_cmd_postfix": ") ",
     "delete_cmd_prefix": "rm(",
     "library": "var_list.r",
     "varRefreshCmd": "cat(var_dic_list()) "
    }
   },
   "types_to_exclude": [
    "module",
    "function",
    "builtin_function_or_method",
    "instance",
    "_Feature"
   ],
   "window_display": false
  }
 },
 "nbformat": 4,
 "nbformat_minor": 2
}
